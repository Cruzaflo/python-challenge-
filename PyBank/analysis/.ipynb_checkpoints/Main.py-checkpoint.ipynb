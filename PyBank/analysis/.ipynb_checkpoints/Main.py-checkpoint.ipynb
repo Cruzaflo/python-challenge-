{
 "cells": [
  {
   "cell_type": "code",
   "execution_count": 205,
   "metadata": {},
   "outputs": [
    {
     "name": "stdout",
     "output_type": "stream",
     "text": [
      "Financial Analysis\n",
      "----------------------------\n",
      "Total Months: 86\n",
      "Total: $38382578\n",
      "Average Change: $-2315.12\n",
      "Greatest Increase in Profits: Feb-2012 ($1926159)\n",
      "Greatest Decrease in Profits: Sep-2013 ($-2196167)\n"
     ]
    }
   ],
   "source": [
    "import os\n",
    "import csv\n",
    "\n",
    "def average(numbers):\n",
    "    length = len(numbers)\n",
    "    total = 0.0\n",
    "    for number in numbers:\n",
    "        total += number\n",
    "    return total / length\n",
    "\n",
    "months = []\n",
    "\n",
    "profit_losses = []\n",
    "\n",
    "monthly_changes = []\n",
    "\n",
    "month_count = 0\n",
    "\n",
    "net_total = 0 \n",
    "\n",
    "average_change = 0.0\n",
    "\n",
    "index = 0\n",
    "\n",
    "count = 0\n",
    "\n",
    "csvpath = os.path.join(\"..\", \"Resources\", \"budget_data.csv\")\n",
    "\n",
    "with open(csvpath, newline = \"\", encoding='utf-8') as csvfile:\n",
    "    \n",
    "    datafile = csv.reader(csvfile, delimiter=\",\")\n",
    "    \n",
    "    next(datafile, None)\n",
    "    \n",
    "    for row in datafile:        \n",
    "        months.append(row[0])       \n",
    "        profit_losses.append(int(row[1]))       \n",
    "        month_count += 1\n",
    "        net_total = net_total + int((row[1]))\n",
    "    \n",
    "    for number in profit_losses:\n",
    "        i = profit_losses.index(number)\n",
    "        if i + 1 < month_count:\n",
    "            change = profit_losses[i + 1] - profit_losses[i]\n",
    "            monthly_changes.append(change)                  \n",
    "            \n",
    "    #Average Monthly change \n",
    "    average_change = (round(average(monthly_changes),2))\n",
    "    \n",
    "    #Greatest/Lowest\n",
    "    greatest_increase = max(monthly_changes)\n",
    "    greatest_i = monthly_changes.index(greatest_increase)\n",
    "    min_increase = min(monthly_changes)\n",
    "    min_i = monthly_changes.index(min_increase)\n",
    "    \n",
    "    #print to terminal\n",
    "    print(\"Financial Analysis\")\n",
    "    print(\"----------------------------\")\n",
    "    print(\"Total Months: \" + str(month_count))\n",
    "    print(\"Total: $\" + str(net_total))\n",
    "    print(\"Average Change: $\" + str(average_change))\n",
    "    print(\"Greatest Increase in Profits: \" + str(months[greatest_i + 1]) + \" ($\" + str(greatest_increase) + \")\")\n",
    "    print(\"Greatest Decrease in Profits: \" + str(months[min_i + 1]) + \" ($\" + str(min_increase) + \")\")\n",
    "    \n",
    "#write to text\n",
    "results = 'Financial Analysis\\n----------------------------\\nTotal Months: ' + str(month_count) + '\\nTotal: $' + str(net_total) + '\\nAverage Change: $' + str(average_change) + '\\nGreatest Increase in Profits: ' + str(months[greatest_i + 1]) + ' ($' + str(greatest_increase) + ')' + '\\nGreatest Decrease in Profits: ' + str(months[min_i + 1]) + ' ($' + str(min_increase) + ')'\n",
    "with open('resource_results.txt','w', newline='', encoding='utf-8') as output:\n",
    "    output.write(results)\n",
    "    output.close\n",
    "\n",
    "        \n",
    "    \n",
    "        \n",
    "\n",
    "\n",
    "        \n"
   ]
  },
  {
   "cell_type": "code",
   "execution_count": null,
   "metadata": {},
   "outputs": [],
   "source": []
  },
  {
   "cell_type": "code",
   "execution_count": null,
   "metadata": {},
   "outputs": [],
   "source": []
  }
 ],
 "metadata": {
  "kernelspec": {
   "display_name": "Python 3",
   "language": "python",
   "name": "python3"
  },
  "language_info": {
   "codemirror_mode": {
    "name": "ipython",
    "version": 3
   },
   "file_extension": ".py",
   "mimetype": "text/x-python",
   "name": "python",
   "nbconvert_exporter": "python",
   "pygments_lexer": "ipython3",
   "version": "3.7.6"
  }
 },
 "nbformat": 4,
 "nbformat_minor": 4
}
